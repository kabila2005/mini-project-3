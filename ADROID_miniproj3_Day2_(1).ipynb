{
  "nbformat": 4,
  "nbformat_minor": 0,
  "metadata": {
    "colab": {
      "provenance": []
    },
    "kernelspec": {
      "name": "python3",
      "display_name": "Python 3"
    },
    "language_info": {
      "name": "python"
    }
  },
  "cells": [
    {
      "cell_type": "code",
      "execution_count": null,
      "metadata": {
        "colab": {
          "base_uri": "https://localhost:8080/"
        },
        "id": "ZriWV2-xEzjG",
        "outputId": "5f4797a5-404c-41a1-ac99-4f801f6e9572"
      },
      "outputs": [
        {
          "output_type": "stream",
          "name": "stdout",
          "text": [
            "Time taken for 200MB: 3.34 seconds\n",
            "Time taken for 400MB: 3.74 seconds\n",
            "Time taken for 600MB: 5.68 seconds\n",
            "Time taken for 800MB: 8.28 seconds\n",
            "Time taken for 1000MB: 10.85 seconds\n",
            "Results: {200: 3.3423290252685547, 400: 3.7430334091186523, 600: 5.681333065032959, 800: 8.279911279678345, 1000: 10.850310802459717}\n"
          ]
        }
      ],
      "source": [
        "import time\n",
        "import os\n",
        "\n",
        "# Function to create a text file of a given size (in MB)\n",
        "def create_text_file(filename, size_mb):\n",
        "    with open(filename, 'w') as f:\n",
        "        f.write('a' * size_mb * 1024 * 1024)\n",
        "\n",
        "# Function to convert the content of a text file to uppercase\n",
        "def convert_to_uppercase(filename):\n",
        "    start_time = time.time()\n",
        "    with open(filename, 'r') as f:\n",
        "        content = f.read()\n",
        "    content_upper = content.upper()\n",
        "    with open(filename, 'w') as f:\n",
        "        f.write(content_upper)\n",
        "    end_time = time.time()\n",
        "    return end_time - start_time\n",
        "\n",
        "# Function to test the conversion time for various file sizes\n",
        "def test_conversion_times():\n",
        "    sizes_mb = [200, 400, 600, 800, 1000]\n",
        "    results = {}\n",
        "\n",
        "    for size in sizes_mb:\n",
        "        filename = f'test_{size}MB.txt'\n",
        "        create_text_file(filename, size)\n",
        "        time_taken = convert_to_uppercase(filename)\n",
        "        results[size] = time_taken\n",
        "        os.remove(filename)  # Clean up the file after conversion\n",
        "        print(f\"Time taken for {size}MB: {time_taken:.2f} seconds\")\n",
        "\n",
        "    return results\n",
        "\n",
        "# Main function\n",
        "def main():\n",
        "    results = test_conversion_times()\n",
        "    print(\"Results:\", results)\n",
        "\n",
        "if __name__ == \"__main__\":\n",
        "    main()\n"
      ]
    }
  ]
}